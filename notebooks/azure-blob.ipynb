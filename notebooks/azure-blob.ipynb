{
 "cells": [
  {
   "cell_type": "code",
   "execution_count": null,
   "id": "b67f91aa-0435-4b60-af05-fea1e087e707",
   "metadata": {},
   "outputs": [],
   "source": [
    "import sys\n",
    "sys.path.append(\"../src\")"
   ]
  },
  {
   "cell_type": "code",
   "execution_count": null,
   "id": "f494206e-1974-407d-b340-59ebc864b67e",
   "metadata": {},
   "outputs": [],
   "source": [
    "from anyfs.aio.backend.azure_blob.sharedkeyauth import AzureSharedKeyAuth"
   ]
  },
  {
   "cell_type": "code",
   "execution_count": null,
   "id": "8b98bd80-31b4-4279-8822-679f0115168e",
   "metadata": {},
   "outputs": [],
   "source": [
    "import httpx\n",
    "import xml.etree.ElementTree as ET\n",
    "from lxml import etree"
   ]
  },
  {
   "cell_type": "code",
   "execution_count": null,
   "id": "21a5efa0-4256-43b8-bf9a-8c4465c8d8f9",
   "metadata": {},
   "outputs": [],
   "source": [
    "authenticator = AzureSharedKeyAuth('devstoreaccount1', 'Eby8vdM02xNOcqFlqUwJPLlmEtlCDXJ1OUzFT50uSRZ6IFsuFq2UVErCz4I6tq/K1SZFPTOtr/KBHBeksoGMGw==')"
   ]
  },
  {
   "cell_type": "code",
   "execution_count": null,
   "id": "64cd93ed-7adc-45b9-b3de-7b61d7b44cf9",
   "metadata": {},
   "outputs": [],
   "source": [
    "ua = httpx.Client(base_url='http://10.0.3.31:10000/devstoreaccount1/',\n",
    "                  auth=authenticator)"
   ]
  },
  {
   "cell_type": "code",
   "execution_count": null,
   "id": "b04f9701-088f-4720-a786-bb3b0669d081",
   "metadata": {},
   "outputs": [],
   "source": [
    "res=ua.get(\"foo?restype=container&comp=list&delimiter=/&prefix=bar/&include=metadata\")\n",
    "res"
   ]
  },
  {
   "cell_type": "code",
   "execution_count": null,
   "id": "90905235-2d70-4ab9-ac70-3046f0e4e783",
   "metadata": {},
   "outputs": [],
   "source": [
    "res.headers"
   ]
  },
  {
   "cell_type": "code",
   "execution_count": null,
   "id": "e483b8c1-3a96-4569-8a0e-27a5fb03a9ba",
   "metadata": {},
   "outputs": [],
   "source": [
    "parser = etree.XMLParser(remove_blank_text=True)\n",
    "root = etree.fromstring(res.text.encode(), parser)\n",
    "\n",
    "pretty_xml = etree.tostring(root, pretty_print=True, encoding='unicode')\n",
    "print(pretty_xml)\n"
   ]
  },
  {
   "cell_type": "code",
   "execution_count": null,
   "id": "00ac54c0-5fd7-47c2-b617-719061857bc6",
   "metadata": {},
   "outputs": [],
   "source": [
    "e=ET.fromstring(res.text)\n",
    "e"
   ]
  },
  {
   "cell_type": "code",
   "execution_count": null,
   "id": "8e400b85-8799-4f1a-bf41-c59c6a2b3d4e",
   "metadata": {},
   "outputs": [],
   "source": [
    "e.findall(\"./Blobs/Blob/Name/text()\")"
   ]
  },
  {
   "cell_type": "code",
   "execution_count": null,
   "id": "d246f299-6a49-4a4d-9bf5-7590566b51d7",
   "metadata": {},
   "outputs": [],
   "source": [
    "e.items()"
   ]
  },
  {
   "cell_type": "code",
   "execution_count": null,
   "id": "6a6cde92-c640-464a-b436-bf1f7eae6819",
   "metadata": {},
   "outputs": [],
   "source": [
    "e.findall(\"Blobs\")"
   ]
  },
  {
   "cell_type": "code",
   "execution_count": null,
   "id": "32e6f0e0-4991-4f27-bcd9-b878adf7ad9d",
   "metadata": {},
   "outputs": [],
   "source": [
    "for bp in e.findall(\"Blobs/Blob/Properties\"):\n",
    "    print(bp[:])"
   ]
  },
  {
   "cell_type": "code",
   "execution_count": null,
   "id": "90223fd7-bba9-4574-9347-5297994beb3a",
   "metadata": {},
   "outputs": [],
   "source": []
  }
 ],
 "metadata": {
  "kernelspec": {
   "display_name": "Python 3 (ipykernel)",
   "language": "python",
   "name": "python3"
  },
  "language_info": {
   "codemirror_mode": {
    "name": "ipython",
    "version": 3
   },
   "file_extension": ".py",
   "mimetype": "text/x-python",
   "name": "python",
   "nbconvert_exporter": "python",
   "pygments_lexer": "ipython3",
   "version": "3.12.3"
  }
 },
 "nbformat": 4,
 "nbformat_minor": 5
}
